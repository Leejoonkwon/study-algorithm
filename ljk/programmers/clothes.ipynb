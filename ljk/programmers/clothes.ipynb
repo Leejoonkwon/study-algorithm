{
 "cells": [
  {
   "cell_type": "markdown",
   "metadata": {},
   "source": [
    "## 데이터 구조\n",
    "얼굴\t동그란 안경, 검정 선글라스\n",
    "\n",
    "상의\t파란색 티셔츠\n",
    "\n",
    "하의\t청바지\n",
    "\n",
    "겉옷\t긴 코트"
   ]
  },
  {
   "cell_type": "code",
   "execution_count": 2,
   "metadata": {},
   "outputs": [],
   "source": [
    "data = [[\"yellow_hat\", \"headgear\"], [\"blue_sunglasses\", \"eyewear\"], [\"green_turban\", \"headgear\"]]"
   ]
  },
  {
   "cell_type": "code",
   "execution_count": 10,
   "metadata": {},
   "outputs": [],
   "source": [
    "def solution(clothes):\n",
    "    # 1. 결괏값과 해시맵 선언\n",
    "    result = 1\n",
    "    hash_map = dict()\n",
    "    \n",
    "    # 2. 의상을 종류별로 구분하기\n",
    "    for wear, kind in clothes:\n",
    "        # 3. get method로 1씩 증가, 없다면 0 삽입\n",
    "        hash_map[kind] = hash_map.get(kind, 0) + 1\n",
    "        \n",
    "    print(\"딕셔너리 구조 확인 : \\n\",hash_map)\n",
    "    # 3. 모든 조합 계산하기( 입지 않는 경우 포함 )\n",
    "    for kind in hash_map:\n",
    "        result *= (hash_map[kind] + 1)\n",
    "        print(result)\n",
    "    # 4. 아무종류의 옷도 입지 않는 경우를 제외한 값 반환\n",
    "    return result - 1"
   ]
  },
  {
   "cell_type": "code",
   "execution_count": 11,
   "metadata": {},
   "outputs": [
    {
     "name": "stdout",
     "output_type": "stream",
     "text": [
      "딕셔너리 구조 확인 : \n",
      " {'headgear': 2, 'eyewear': 1}\n",
      "3\n",
      "6\n",
      "5\n"
     ]
    }
   ],
   "source": [
    "print(solution(data))"
   ]
  },
  {
   "cell_type": "code",
   "execution_count": 13,
   "metadata": {},
   "outputs": [],
   "source": [
    "def solution(clothes):\n",
    "    # 1. 결괏값과 해시맵 선언\n",
    "    result1 = 0\n",
    "    result2 = 1\n",
    "    hash_map = dict()\n",
    "    \n",
    "    # 2. 의상을 종류별로 구분하기\n",
    "    for wear, kind in clothes:\n",
    "        # 3. get method로 1씩 증가, 없다면 0 삽입\n",
    "        hash_map[kind] = hash_map.get(kind, 0) + 1\n",
    "        \n",
    "    print(\"딕셔너리 구조 확인 : \\n\",hash_map)\n",
    "    # 3. 모든 조합 계산하기( 입지 않는 경우 포함 )\n",
    "    for kind in hash_map:\n",
    "        result1 += hash_map[kind]\n",
    "        result2 *= hash_map[kind]\n",
    "        result = result1 + result2\n",
    "    # 4. 아무종류의 옷도 입지 않는 경우를 제외한 값 반환\n",
    "    return result"
   ]
  },
  {
   "cell_type": "code",
   "execution_count": 14,
   "metadata": {},
   "outputs": [
    {
     "name": "stdout",
     "output_type": "stream",
     "text": [
      "딕셔너리 구조 확인 : \n",
      " {'headgear': 2, 'eyewear': 1}\n",
      "5\n"
     ]
    }
   ],
   "source": [
    "print(solution(data))\n"
   ]
  }
 ],
 "metadata": {
  "kernelspec": {
   "display_name": "Python 3",
   "language": "python",
   "name": "python3"
  },
  "language_info": {
   "codemirror_mode": {
    "name": "ipython",
    "version": 3
   },
   "file_extension": ".py",
   "mimetype": "text/x-python",
   "name": "python",
   "nbconvert_exporter": "python",
   "pygments_lexer": "ipython3",
   "version": "3.9.2"
  },
  "orig_nbformat": 4
 },
 "nbformat": 4,
 "nbformat_minor": 2
}
