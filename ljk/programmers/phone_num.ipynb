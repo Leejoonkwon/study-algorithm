{
 "cells": [
  {
   "cell_type": "markdown",
   "metadata": {},
   "source": [
    "## 데이터 구조\n",
    "phone_book\treturn \n",
    "\n",
    "[\"119\", \"97674223\", \"1195524421\"]\tfalse\n",
    "\n",
    "[\"123\",\"456\",\"789\"]\ttrue\n",
    "\n",
    "[\"12\",\"123\",\"1235\",\"567\",\"88\"]\tfalse\n"
   ]
  },
  {
   "cell_type": "code",
   "execution_count": 20,
   "metadata": {},
   "outputs": [],
   "source": [
    "sample1 = [\"119\", \"97674223\", \"1195524421\"]\n",
    "\n",
    "sample2 = [\"123\",\"456\",\"789\"]\n"
   ]
  },
  {
   "cell_type": "code",
   "execution_count": 28,
   "metadata": {},
   "outputs": [],
   "source": [
    "def solution1(phoneBook):\n",
    "    answer = True\n",
    "    # string 정렬\n",
    "    sort_phoneBook = sorted(phoneBook)\n",
    "    print(\"phoneBook : \\n\",phoneBook)\n",
    "    \n",
    "    print(\"sort_phoneBook : \\n\",sort_phoneBook)\n",
    "   \n",
    "    for i in range(len(sort_phoneBook)):\n",
    "        # 반복문 마지막까지 가게될 경우 break\n",
    "        if i == len(sort_phoneBook)-1:\n",
    "            break\n",
    "        # 접두사\n",
    "        prefix = sort_phoneBook[i]\n",
    "        print(f\"prefix {i}번째: \\n\",prefix)\n",
    "        \n",
    "        # 접두사 다음 올 번호\n",
    "        other = sort_phoneBook[i+1]\n",
    "        print(f\"other {i}번째: \\n\",other)\n",
    "        if prefix in other and other.index(prefix) == 0:\n",
    "            print(\"확인 : \\n\",other.index(prefix))\n",
    "            return False\n",
    "    return True"
   ]
  },
  {
   "cell_type": "code",
   "execution_count": 29,
   "metadata": {},
   "outputs": [
    {
     "name": "stdout",
     "output_type": "stream",
     "text": [
      "phoneBook : \n",
      " ['119', '97674223', '1195524421']\n",
      "sort_phoneBook : \n",
      " ['119', '1195524421', '97674223']\n",
      "prefix 0번째: \n",
      " 119\n",
      "other 0번째: \n",
      " 1195524421\n",
      "확인 : \n",
      " 0\n",
      "False\n"
     ]
    }
   ],
   "source": [
    "print(solution1(sample1))"
   ]
  },
  {
   "cell_type": "code",
   "execution_count": 4,
   "metadata": {},
   "outputs": [],
   "source": [
    "\n",
    "def solution2(phoneBook):\n",
    "    sort_phoneBook = sorted(phoneBook)\n",
    "    print(\"sample origin : \\n\",phoneBook)\n",
    "    print(\"sorted sample : \\n\",sort_phoneBook)\n",
    "    for p1, p2 in zip(sort_phoneBook, sort_phoneBook[1:]):\n",
    "        print(\"접두사 : \\n\",p1)\n",
    "        print(\"나머지 : \\n\",p2)\n",
    "        if p2.startswith(p1):\n",
    "            return False\n",
    "    return True"
   ]
  },
  {
   "cell_type": "code",
   "execution_count": 5,
   "metadata": {},
   "outputs": [
    {
     "name": "stdout",
     "output_type": "stream",
     "text": [
      "sample origin : \n",
      " ['119', '97674223', '1195524421']\n",
      "sorted sample : \n",
      " ['119', '1195524421', '97674223']\n",
      "접두사 : \n",
      " 119\n",
      "나머지 : \n",
      " 1195524421\n",
      "False\n"
     ]
    }
   ],
   "source": [
    "print(solution2(sample1))"
   ]
  },
  {
   "cell_type": "markdown",
   "metadata": {},
   "source": [
    "## 해쉬 실험"
   ]
  },
  {
   "cell_type": "code",
   "execution_count": 9,
   "metadata": {},
   "outputs": [],
   "source": [
    "def solution3(phoneBook):\n",
    "    \n",
    "    temp_dict = dict.fromkeys(phoneBook, 0)\n",
    "    for phone_number in phoneBook:\n",
    "        temp = \"\"\n",
    "        for number in phone_number:\n",
    "            temp += number\n",
    "            print(temp)\n",
    "    return temp_dict"
   ]
  },
  {
   "cell_type": "code",
   "execution_count": 10,
   "metadata": {},
   "outputs": [
    {
     "name": "stdout",
     "output_type": "stream",
     "text": [
      "1\n",
      "11\n",
      "119\n",
      "9\n",
      "97\n",
      "976\n",
      "9767\n",
      "97674\n",
      "976742\n",
      "9767422\n",
      "97674223\n",
      "1\n",
      "11\n",
      "119\n",
      "1195\n",
      "11955\n",
      "119552\n",
      "1195524\n",
      "11955244\n",
      "119552442\n",
      "1195524421\n",
      "{'119': 0, '97674223': 0, '1195524421': 0}\n"
     ]
    }
   ],
   "source": [
    "print(solution3(sample1))"
   ]
  }
 ],
 "metadata": {
  "kernelspec": {
   "display_name": "Python 3",
   "language": "python",
   "name": "python3"
  },
  "language_info": {
   "codemirror_mode": {
    "name": "ipython",
    "version": 3
   },
   "file_extension": ".py",
   "mimetype": "text/x-python",
   "name": "python",
   "nbconvert_exporter": "python",
   "pygments_lexer": "ipython3",
   "version": "3.9.2"
  },
  "orig_nbformat": 4
 },
 "nbformat": 4,
 "nbformat_minor": 2
}
